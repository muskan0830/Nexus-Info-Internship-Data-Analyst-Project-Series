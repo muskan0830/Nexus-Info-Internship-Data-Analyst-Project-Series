{
 "cells": [
  {
   "cell_type": "markdown",
   "id": "41d5ae8d",
   "metadata": {},
   "source": [
    "# About dataset\n",
    "\n",
    "### Context:\n",
    "\n",
    "This is the sentiment140 dataset. It contains 1,600,000 tweets extracted using the twitter api. The tweets have been annotated (0 = negative, 4 = positive) and they can be used to detect sentiment .\n",
    "\n",
    "### Content:\n",
    "\n",
    "It contains the following 6 fields:\n",
    "\n",
    "1. target: the polarity of the tweet (0 = negative, 2 = neutral, 4 = positive)\n",
    "\n",
    "2. ids: The id of the tweet ( 2087)\n",
    "\n",
    "3. date: the date of the tweet (Sat May 16 23:58:44 UTC 2009)\n",
    "\n",
    "4. flag: The query (lyx). If there is no query, then this value is NO_QUERY.\n",
    "\n",
    "5. user: the user that tweeted (robotickilldozr)\n",
    "\n",
    "6. text: the text of the tweet (Lyx is cool)\n",
    "\n",
    "\n",
    "Dataset: https://www.kaggle.com/datasets/kazanova/sentiment140"
   ]
  },
  {
   "cell_type": "code",
   "execution_count": 11,
   "id": "c10375b1",
   "metadata": {},
   "outputs": [],
   "source": [
    "#import necessary libraries\n",
    "\n",
    "import pandas as pd\n",
    "\n",
    "import matplotlib.pyplot as plt\n",
    "import seaborn as sns\n",
    "\n",
    "sns.set()\n",
    "\n",
    "import warnings\n",
    "warnings.filterwarnings('ignore')"
   ]
  },
  {
   "cell_type": "code",
   "execution_count": 12,
   "id": "9e3e4cd5",
   "metadata": {},
   "outputs": [],
   "source": [
    "# Read the CSV file without headers\n",
    "\n",
    "data = pd.read_csv('twitter-reviews.csv', encoding='ISO-8859-1', header=None)\n"
   ]
  },
  {
   "cell_type": "code",
   "execution_count": 13,
   "id": "f4c12ad2",
   "metadata": {},
   "outputs": [
    {
     "data": {
      "text/html": [
       "<div>\n",
       "<style scoped>\n",
       "    .dataframe tbody tr th:only-of-type {\n",
       "        vertical-align: middle;\n",
       "    }\n",
       "\n",
       "    .dataframe tbody tr th {\n",
       "        vertical-align: top;\n",
       "    }\n",
       "\n",
       "    .dataframe thead th {\n",
       "        text-align: right;\n",
       "    }\n",
       "</style>\n",
       "<table border=\"1\" class=\"dataframe\">\n",
       "  <thead>\n",
       "    <tr style=\"text-align: right;\">\n",
       "      <th></th>\n",
       "      <th>0</th>\n",
       "      <th>1</th>\n",
       "      <th>2</th>\n",
       "      <th>3</th>\n",
       "      <th>4</th>\n",
       "      <th>5</th>\n",
       "    </tr>\n",
       "  </thead>\n",
       "  <tbody>\n",
       "    <tr>\n",
       "      <th>0</th>\n",
       "      <td>0</td>\n",
       "      <td>1467810369</td>\n",
       "      <td>Mon Apr 06 22:19:45 PDT 2009</td>\n",
       "      <td>NO_QUERY</td>\n",
       "      <td>_TheSpecialOne_</td>\n",
       "      <td>@switchfoot http://twitpic.com/2y1zl - Awww, t...</td>\n",
       "    </tr>\n",
       "    <tr>\n",
       "      <th>1</th>\n",
       "      <td>0</td>\n",
       "      <td>1467810672</td>\n",
       "      <td>Mon Apr 06 22:19:49 PDT 2009</td>\n",
       "      <td>NO_QUERY</td>\n",
       "      <td>scotthamilton</td>\n",
       "      <td>is upset that he can't update his Facebook by ...</td>\n",
       "    </tr>\n",
       "    <tr>\n",
       "      <th>2</th>\n",
       "      <td>0</td>\n",
       "      <td>1467810917</td>\n",
       "      <td>Mon Apr 06 22:19:53 PDT 2009</td>\n",
       "      <td>NO_QUERY</td>\n",
       "      <td>mattycus</td>\n",
       "      <td>@Kenichan I dived many times for the ball. Man...</td>\n",
       "    </tr>\n",
       "    <tr>\n",
       "      <th>3</th>\n",
       "      <td>0</td>\n",
       "      <td>1467811184</td>\n",
       "      <td>Mon Apr 06 22:19:57 PDT 2009</td>\n",
       "      <td>NO_QUERY</td>\n",
       "      <td>ElleCTF</td>\n",
       "      <td>my whole body feels itchy and like its on fire</td>\n",
       "    </tr>\n",
       "    <tr>\n",
       "      <th>4</th>\n",
       "      <td>0</td>\n",
       "      <td>1467811193</td>\n",
       "      <td>Mon Apr 06 22:19:57 PDT 2009</td>\n",
       "      <td>NO_QUERY</td>\n",
       "      <td>Karoli</td>\n",
       "      <td>@nationwideclass no, it's not behaving at all....</td>\n",
       "    </tr>\n",
       "    <tr>\n",
       "      <th>5</th>\n",
       "      <td>0</td>\n",
       "      <td>1467811372</td>\n",
       "      <td>Mon Apr 06 22:20:00 PDT 2009</td>\n",
       "      <td>NO_QUERY</td>\n",
       "      <td>joy_wolf</td>\n",
       "      <td>@Kwesidei not the whole crew</td>\n",
       "    </tr>\n",
       "    <tr>\n",
       "      <th>6</th>\n",
       "      <td>0</td>\n",
       "      <td>1467811592</td>\n",
       "      <td>Mon Apr 06 22:20:03 PDT 2009</td>\n",
       "      <td>NO_QUERY</td>\n",
       "      <td>mybirch</td>\n",
       "      <td>Need a hug</td>\n",
       "    </tr>\n",
       "    <tr>\n",
       "      <th>7</th>\n",
       "      <td>0</td>\n",
       "      <td>1467811594</td>\n",
       "      <td>Mon Apr 06 22:20:03 PDT 2009</td>\n",
       "      <td>NO_QUERY</td>\n",
       "      <td>coZZ</td>\n",
       "      <td>@LOLTrish hey  long time no see! Yes.. Rains a...</td>\n",
       "    </tr>\n",
       "    <tr>\n",
       "      <th>8</th>\n",
       "      <td>0</td>\n",
       "      <td>1467811795</td>\n",
       "      <td>Mon Apr 06 22:20:05 PDT 2009</td>\n",
       "      <td>NO_QUERY</td>\n",
       "      <td>2Hood4Hollywood</td>\n",
       "      <td>@Tatiana_K nope they didn't have it</td>\n",
       "    </tr>\n",
       "    <tr>\n",
       "      <th>9</th>\n",
       "      <td>0</td>\n",
       "      <td>1467812025</td>\n",
       "      <td>Mon Apr 06 22:20:09 PDT 2009</td>\n",
       "      <td>NO_QUERY</td>\n",
       "      <td>mimismo</td>\n",
       "      <td>@twittera que me muera ?</td>\n",
       "    </tr>\n",
       "  </tbody>\n",
       "</table>\n",
       "</div>"
      ],
      "text/plain": [
       "   0           1                             2         3                4  \\\n",
       "0  0  1467810369  Mon Apr 06 22:19:45 PDT 2009  NO_QUERY  _TheSpecialOne_   \n",
       "1  0  1467810672  Mon Apr 06 22:19:49 PDT 2009  NO_QUERY    scotthamilton   \n",
       "2  0  1467810917  Mon Apr 06 22:19:53 PDT 2009  NO_QUERY         mattycus   \n",
       "3  0  1467811184  Mon Apr 06 22:19:57 PDT 2009  NO_QUERY          ElleCTF   \n",
       "4  0  1467811193  Mon Apr 06 22:19:57 PDT 2009  NO_QUERY           Karoli   \n",
       "5  0  1467811372  Mon Apr 06 22:20:00 PDT 2009  NO_QUERY         joy_wolf   \n",
       "6  0  1467811592  Mon Apr 06 22:20:03 PDT 2009  NO_QUERY          mybirch   \n",
       "7  0  1467811594  Mon Apr 06 22:20:03 PDT 2009  NO_QUERY             coZZ   \n",
       "8  0  1467811795  Mon Apr 06 22:20:05 PDT 2009  NO_QUERY  2Hood4Hollywood   \n",
       "9  0  1467812025  Mon Apr 06 22:20:09 PDT 2009  NO_QUERY          mimismo   \n",
       "\n",
       "                                                   5  \n",
       "0  @switchfoot http://twitpic.com/2y1zl - Awww, t...  \n",
       "1  is upset that he can't update his Facebook by ...  \n",
       "2  @Kenichan I dived many times for the ball. Man...  \n",
       "3    my whole body feels itchy and like its on fire   \n",
       "4  @nationwideclass no, it's not behaving at all....  \n",
       "5                      @Kwesidei not the whole crew   \n",
       "6                                        Need a hug   \n",
       "7  @LOLTrish hey  long time no see! Yes.. Rains a...  \n",
       "8               @Tatiana_K nope they didn't have it   \n",
       "9                          @twittera que me muera ?   "
      ]
     },
     "execution_count": 13,
     "metadata": {},
     "output_type": "execute_result"
    }
   ],
   "source": [
    "data.head(10)"
   ]
  },
  {
   "cell_type": "code",
   "execution_count": 14,
   "id": "f978b152",
   "metadata": {},
   "outputs": [],
   "source": [
    "# Define column names\n",
    "\n",
    "column_names = ['target', 'ids', 'date', 'flag','user','text']"
   ]
  },
  {
   "cell_type": "code",
   "execution_count": 15,
   "id": "dad56a9d",
   "metadata": {},
   "outputs": [],
   "source": [
    "#Add headers to your dataframe\n",
    "\n",
    "data.columns = column_names"
   ]
  },
  {
   "cell_type": "code",
   "execution_count": 16,
   "id": "9761bfcc",
   "metadata": {},
   "outputs": [
    {
     "data": {
      "text/html": [
       "<div>\n",
       "<style scoped>\n",
       "    .dataframe tbody tr th:only-of-type {\n",
       "        vertical-align: middle;\n",
       "    }\n",
       "\n",
       "    .dataframe tbody tr th {\n",
       "        vertical-align: top;\n",
       "    }\n",
       "\n",
       "    .dataframe thead th {\n",
       "        text-align: right;\n",
       "    }\n",
       "</style>\n",
       "<table border=\"1\" class=\"dataframe\">\n",
       "  <thead>\n",
       "    <tr style=\"text-align: right;\">\n",
       "      <th></th>\n",
       "      <th>target</th>\n",
       "      <th>ids</th>\n",
       "      <th>date</th>\n",
       "      <th>flag</th>\n",
       "      <th>user</th>\n",
       "      <th>text</th>\n",
       "    </tr>\n",
       "  </thead>\n",
       "  <tbody>\n",
       "    <tr>\n",
       "      <th>0</th>\n",
       "      <td>0</td>\n",
       "      <td>1467810369</td>\n",
       "      <td>Mon Apr 06 22:19:45 PDT 2009</td>\n",
       "      <td>NO_QUERY</td>\n",
       "      <td>_TheSpecialOne_</td>\n",
       "      <td>@switchfoot http://twitpic.com/2y1zl - Awww, t...</td>\n",
       "    </tr>\n",
       "    <tr>\n",
       "      <th>1</th>\n",
       "      <td>0</td>\n",
       "      <td>1467810672</td>\n",
       "      <td>Mon Apr 06 22:19:49 PDT 2009</td>\n",
       "      <td>NO_QUERY</td>\n",
       "      <td>scotthamilton</td>\n",
       "      <td>is upset that he can't update his Facebook by ...</td>\n",
       "    </tr>\n",
       "    <tr>\n",
       "      <th>2</th>\n",
       "      <td>0</td>\n",
       "      <td>1467810917</td>\n",
       "      <td>Mon Apr 06 22:19:53 PDT 2009</td>\n",
       "      <td>NO_QUERY</td>\n",
       "      <td>mattycus</td>\n",
       "      <td>@Kenichan I dived many times for the ball. Man...</td>\n",
       "    </tr>\n",
       "    <tr>\n",
       "      <th>3</th>\n",
       "      <td>0</td>\n",
       "      <td>1467811184</td>\n",
       "      <td>Mon Apr 06 22:19:57 PDT 2009</td>\n",
       "      <td>NO_QUERY</td>\n",
       "      <td>ElleCTF</td>\n",
       "      <td>my whole body feels itchy and like its on fire</td>\n",
       "    </tr>\n",
       "    <tr>\n",
       "      <th>4</th>\n",
       "      <td>0</td>\n",
       "      <td>1467811193</td>\n",
       "      <td>Mon Apr 06 22:19:57 PDT 2009</td>\n",
       "      <td>NO_QUERY</td>\n",
       "      <td>Karoli</td>\n",
       "      <td>@nationwideclass no, it's not behaving at all....</td>\n",
       "    </tr>\n",
       "  </tbody>\n",
       "</table>\n",
       "</div>"
      ],
      "text/plain": [
       "   target         ids                          date      flag  \\\n",
       "0       0  1467810369  Mon Apr 06 22:19:45 PDT 2009  NO_QUERY   \n",
       "1       0  1467810672  Mon Apr 06 22:19:49 PDT 2009  NO_QUERY   \n",
       "2       0  1467810917  Mon Apr 06 22:19:53 PDT 2009  NO_QUERY   \n",
       "3       0  1467811184  Mon Apr 06 22:19:57 PDT 2009  NO_QUERY   \n",
       "4       0  1467811193  Mon Apr 06 22:19:57 PDT 2009  NO_QUERY   \n",
       "\n",
       "              user                                               text  \n",
       "0  _TheSpecialOne_  @switchfoot http://twitpic.com/2y1zl - Awww, t...  \n",
       "1    scotthamilton  is upset that he can't update his Facebook by ...  \n",
       "2         mattycus  @Kenichan I dived many times for the ball. Man...  \n",
       "3          ElleCTF    my whole body feels itchy and like its on fire   \n",
       "4           Karoli  @nationwideclass no, it's not behaving at all....  "
      ]
     },
     "execution_count": 16,
     "metadata": {},
     "output_type": "execute_result"
    }
   ],
   "source": [
    "data.head()"
   ]
  },
  {
   "cell_type": "code",
   "execution_count": 17,
   "id": "6030b331",
   "metadata": {},
   "outputs": [
    {
     "name": "stdout",
     "output_type": "stream",
     "text": [
      "<class 'pandas.core.frame.DataFrame'>\n",
      "RangeIndex: 1600000 entries, 0 to 1599999\n",
      "Data columns (total 6 columns):\n",
      " #   Column  Non-Null Count    Dtype \n",
      "---  ------  --------------    ----- \n",
      " 0   target  1600000 non-null  int64 \n",
      " 1   ids     1600000 non-null  int64 \n",
      " 2   date    1600000 non-null  object\n",
      " 3   flag    1600000 non-null  object\n",
      " 4   user    1600000 non-null  object\n",
      " 5   text    1600000 non-null  object\n",
      "dtypes: int64(2), object(4)\n",
      "memory usage: 73.2+ MB\n"
     ]
    }
   ],
   "source": [
    "# check the data types and other inconsistencies\n",
    "\n",
    "data.info()"
   ]
  },
  {
   "cell_type": "code",
   "execution_count": 18,
   "id": "386609a2",
   "metadata": {},
   "outputs": [
    {
     "data": {
      "text/plain": [
       "(1600000, 6)"
      ]
     },
     "execution_count": 18,
     "metadata": {},
     "output_type": "execute_result"
    }
   ],
   "source": [
    "data.shape"
   ]
  },
  {
   "cell_type": "markdown",
   "id": "7a132b2f",
   "metadata": {},
   "source": [
    "#### Date column"
   ]
  },
  {
   "cell_type": "code",
   "execution_count": 20,
   "id": "a6ffb860",
   "metadata": {},
   "outputs": [
    {
     "data": {
      "text/plain": [
       "0    Mon Apr 06 22:19:45 PDT 2009\n",
       "1    Mon Apr 06 22:19:49 PDT 2009\n",
       "2    Mon Apr 06 22:19:53 PDT 2009\n",
       "3    Mon Apr 06 22:19:57 PDT 2009\n",
       "4    Mon Apr 06 22:19:57 PDT 2009\n",
       "Name: date, dtype: object"
      ]
     },
     "execution_count": 20,
     "metadata": {},
     "output_type": "execute_result"
    }
   ],
   "source": [
    "data['date'].head(5)"
   ]
  },
  {
   "cell_type": "markdown",
   "id": "58e42fd4",
   "metadata": {},
   "source": [
    "date column contains timezone \"PDT\""
   ]
  },
  {
   "cell_type": "code",
   "execution_count": 22,
   "id": "3892354b",
   "metadata": {},
   "outputs": [
    {
     "name": "stdout",
     "output_type": "stream",
     "text": [
      "Requirement already satisfied: pytz in c:\\users\\asus\\anaconda3\\lib\\site-packages (2022.7)\n"
     ]
    }
   ],
   "source": [
    "# 'pytz' library : pandas' built-in timezone capabilities\n",
    "\n",
    "!pip install pytz"
   ]
  },
  {
   "cell_type": "code",
   "execution_count": 24,
   "id": "b8d4cc94",
   "metadata": {},
   "outputs": [],
   "source": [
    "# Convert 'date' column to datetime\n",
    "\n",
    "data['date'] = pd.to_datetime(data['date'])\n"
   ]
  },
  {
   "cell_type": "code",
   "execution_count": 25,
   "id": "0c9db8fd",
   "metadata": {},
   "outputs": [],
   "source": [
    "# Localize to UTC first (if the data is not timezone-aware)\n",
    "\n",
    "data['date'] = data['date'].dt.tz_localize('UTC')"
   ]
  },
  {
   "cell_type": "code",
   "execution_count": 26,
   "id": "6f8ae5a0",
   "metadata": {},
   "outputs": [],
   "source": [
    "# Convert to Pacific Daylight Time (PDT)\n",
    "\n",
    "data['date'] = data['date'].dt.tz_convert('US/Pacific')"
   ]
  },
  {
   "cell_type": "code",
   "execution_count": 28,
   "id": "63762df5",
   "metadata": {},
   "outputs": [],
   "source": [
    "# Convert to UTC (Optional step)\n",
    "\n",
    "data['date_utc'] = data['date'].dt.tz_convert('UTC')"
   ]
  },
  {
   "cell_type": "code",
   "execution_count": 29,
   "id": "c0836440",
   "metadata": {},
   "outputs": [],
   "source": [
    "# Extract month\n",
    "\n",
    "data['month'] = data['date'].dt.month_name()"
   ]
  },
  {
   "cell_type": "markdown",
   "id": "a3ad843e",
   "metadata": {},
   "source": [
    "#### Target column"
   ]
  },
  {
   "cell_type": "code",
   "execution_count": 35,
   "id": "d84b3e7d",
   "metadata": {},
   "outputs": [
    {
     "data": {
      "text/plain": [
       "array([0, 4], dtype=int64)"
      ]
     },
     "execution_count": 35,
     "metadata": {},
     "output_type": "execute_result"
    }
   ],
   "source": [
    "data['target'].unique()"
   ]
  },
  {
   "cell_type": "code",
   "execution_count": 42,
   "id": "ee956ae6",
   "metadata": {},
   "outputs": [
    {
     "data": {
      "text/plain": [
       "0    800000\n",
       "4    800000\n",
       "Name: target, dtype: int64"
      ]
     },
     "execution_count": 42,
     "metadata": {},
     "output_type": "execute_result"
    }
   ],
   "source": [
    "# Calculate the counts of each target\n",
    "\n",
    "data['target'].value_counts()"
   ]
  },
  {
   "cell_type": "markdown",
   "id": "77db4f20",
   "metadata": {},
   "source": [
    "#### text column"
   ]
  },
  {
   "cell_type": "code",
   "execution_count": 47,
   "id": "6671d1ba",
   "metadata": {},
   "outputs": [],
   "source": [
    "# remove usernames and urls\n",
    "\n",
    "import re"
   ]
  },
  {
   "cell_type": "code",
   "execution_count": 48,
   "id": "96e35f2c",
   "metadata": {},
   "outputs": [],
   "source": [
    "# Function to remove usernames and URLs\n",
    "\n",
    "def clean_text(text):\n",
    "    # Remove usernames\n",
    "    text = re.sub(r'@\\w+', '', text)\n",
    "    # Remove URLs\n",
    "    text = re.sub(r'http\\S+|www\\S+', '', text)\n",
    "    # Remove extra whitespace\n",
    "    text = text.strip()\n",
    "    return text\n",
    "\n",
    "\n",
    "# Apply the function to the 'text' column\n",
    "\n",
    "data['cleaned_text'] = data['text'].apply(clean_text)"
   ]
  },
  {
   "cell_type": "code",
   "execution_count": 49,
   "id": "0c00e958",
   "metadata": {},
   "outputs": [
    {
     "data": {
      "text/plain": [
       "0          - A that's a bummer.  You shoulda got David Ca...\n",
       "1          is upset that he can't update his Facebook by ...\n",
       "2          I dived many times for the ball. Managed to sa...\n",
       "3             my whole body feels itchy and like its on fire\n",
       "4          no, it's not behaving at all. i'm mad. why am ...\n",
       "                                 ...                        \n",
       "1599995    Just woke up. Having no school is the best fee...\n",
       "1599996    TheWDB.com - Very cool to hear old Walt interv...\n",
       "1599997    Are you ready for your MoJo Makeover? Ask me f...\n",
       "1599998    Happy 38th Birthday to my boo of alll time!!! ...\n",
       "1599999                                happy #charitytuesday\n",
       "Name: cleaned_text, Length: 1600000, dtype: object"
      ]
     },
     "execution_count": 49,
     "metadata": {},
     "output_type": "execute_result"
    }
   ],
   "source": [
    "data['cleaned_text']"
   ]
  },
  {
   "cell_type": "markdown",
   "id": "637025e1",
   "metadata": {},
   "source": [
    "#### TOP 5 FREQUENT WORDS"
   ]
  },
  {
   "cell_type": "code",
   "execution_count": 51,
   "id": "f3b3c552",
   "metadata": {},
   "outputs": [
    {
     "name": "stderr",
     "output_type": "stream",
     "text": [
      "[nltk_data] Downloading package punkt to\n",
      "[nltk_data]     C:\\Users\\asus\\AppData\\Roaming\\nltk_data...\n",
      "[nltk_data]   Package punkt is already up-to-date!\n",
      "[nltk_data] Downloading package stopwords to\n",
      "[nltk_data]     C:\\Users\\asus\\AppData\\Roaming\\nltk_data...\n",
      "[nltk_data]   Package stopwords is already up-to-date!\n",
      "[nltk_data] Downloading package wordnet to\n",
      "[nltk_data]     C:\\Users\\asus\\AppData\\Roaming\\nltk_data...\n",
      "[nltk_data]   Package wordnet is already up-to-date!\n"
     ]
    },
    {
     "data": {
      "text/plain": [
       "True"
      ]
     },
     "execution_count": 51,
     "metadata": {},
     "output_type": "execute_result"
    }
   ],
   "source": [
    "import nltk\n",
    "\n",
    "# Download the nltk punkt data for sentence tokenization\n",
    "\n",
    "nltk.download('punkt')\n",
    "\n",
    "from nltk import FreqDist\n",
    "from nltk.tokenize import word_tokenize\n",
    "from nltk.corpus import stopwords\n",
    "from nltk.stem import WordNetLemmatizer\n",
    "\n",
    "nltk.download('stopwords')\n",
    "nltk.download('wordnet')"
   ]
  },
  {
   "cell_type": "code",
   "execution_count": 52,
   "id": "8bdb24e8",
   "metadata": {},
   "outputs": [],
   "source": [
    "# join all entries into a single string\n",
    "\n",
    "all_text = ' '.join(data['cleaned_text'].astype(str))"
   ]
  },
  {
   "cell_type": "code",
   "execution_count": 53,
   "id": "acb01608",
   "metadata": {},
   "outputs": [],
   "source": [
    "# Tokenize the text into words\n",
    "\n",
    "words = word_tokenize(all_text)"
   ]
  },
  {
   "cell_type": "code",
   "execution_count": 54,
   "id": "962cac50",
   "metadata": {},
   "outputs": [],
   "source": [
    "# Remove stop words and punctuation\n",
    "\n",
    "stop_words = set(stopwords.words('english'))\n",
    "\n",
    "filtered_words = [word.lower() for word in words if word.isalnum() and word.lower() not in stop_words]\n"
   ]
  },
  {
   "cell_type": "code",
   "execution_count": 55,
   "id": "def1af83",
   "metadata": {},
   "outputs": [],
   "source": [
    "# Lemmatize the words\n",
    "\n",
    "lemmatizer = WordNetLemmatizer()\n",
    "\n",
    "lemmatized_words = [lemmatizer.lemmatize(word) for word in filtered_words]\n"
   ]
  },
  {
   "cell_type": "code",
   "execution_count": 56,
   "id": "47d86610",
   "metadata": {},
   "outputs": [],
   "source": [
    "# Calculate the frequency distribution of words\n",
    "\n",
    "freq_dist = FreqDist(lemmatized_words)\n"
   ]
  },
  {
   "cell_type": "code",
   "execution_count": 57,
   "id": "11e194d1",
   "metadata": {},
   "outputs": [
    {
     "name": "stdout",
     "output_type": "stream",
     "text": [
      "The word 'day' appears 103289 times.\n",
      "The word 'good' appears 90906 times.\n",
      "The word 'get' appears 86148 times.\n",
      "The word 'like' appears 79605 times.\n",
      "The word 'go' appears 78132 times.\n"
     ]
    }
   ],
   "source": [
    "# Find the top 5 most common words\n",
    "\n",
    "top_words = freq_dist.most_common(5)\n",
    "\n",
    "\n",
    "# Print the top 5 most common words and their frequencies\n",
    "\n",
    "for word, frequency in top_words:\n",
    "    print(f\"The word '{word}' appears {frequency} times.\")"
   ]
  },
  {
   "cell_type": "markdown",
   "id": "f52f4cbc",
   "metadata": {},
   "source": [
    "#### Sentiment Analysis"
   ]
  },
  {
   "cell_type": "code",
   "execution_count": 58,
   "id": "40e98534",
   "metadata": {},
   "outputs": [
    {
     "name": "stderr",
     "output_type": "stream",
     "text": [
      "[nltk_data] Downloading package vader_lexicon to\n",
      "[nltk_data]     C:\\Users\\asus\\AppData\\Roaming\\nltk_data...\n",
      "[nltk_data]   Package vader_lexicon is already up-to-date!\n"
     ]
    }
   ],
   "source": [
    "# Sentiment analysis using VADER\n",
    "\n",
    "nltk.download('vader_lexicon')\n",
    "\n",
    "#import sentiment intensity analyzer\n",
    "\n",
    "from nltk.sentiment import SentimentIntensityAnalyzer\n"
   ]
  },
  {
   "cell_type": "code",
   "execution_count": 59,
   "id": "8151ef31",
   "metadata": {},
   "outputs": [],
   "source": [
    "# Replace NaN with an empty string\n",
    "\n",
    "data['cleaned_text'] = data['cleaned_text'].fillna('') \n"
   ]
  },
  {
   "cell_type": "code",
   "execution_count": 60,
   "id": "462acfa0",
   "metadata": {},
   "outputs": [],
   "source": [
    "#Initialize the Sentiment Intensity Analyzer\n",
    "\n",
    "sia = SentimentIntensityAnalyzer()"
   ]
  },
  {
   "cell_type": "code",
   "execution_count": 62,
   "id": "a36b4e2f",
   "metadata": {},
   "outputs": [],
   "source": [
    "# Create a new column 'Sentiment' with sentiment scores\n",
    "\n",
    "data['sentiment'] = data['cleaned_text'].apply(lambda x: sia.polarity_scores(x)['compound'])"
   ]
  },
  {
   "cell_type": "code",
   "execution_count": 63,
   "id": "71cf5a2f",
   "metadata": {},
   "outputs": [],
   "source": [
    "# Assign \"positive\" or \"negative\" based on sentiment score\n",
    "\n",
    "data['sentiment_label'] = data['sentiment'].apply(lambda x: 'positive' if x > 0 else 'negative' if x < 0 else 'neutral')\n"
   ]
  },
  {
   "cell_type": "code",
   "execution_count": 64,
   "id": "1d4d088b",
   "metadata": {},
   "outputs": [
    {
     "data": {
      "text/html": [
       "<div>\n",
       "<style scoped>\n",
       "    .dataframe tbody tr th:only-of-type {\n",
       "        vertical-align: middle;\n",
       "    }\n",
       "\n",
       "    .dataframe tbody tr th {\n",
       "        vertical-align: top;\n",
       "    }\n",
       "\n",
       "    .dataframe thead th {\n",
       "        text-align: right;\n",
       "    }\n",
       "</style>\n",
       "<table border=\"1\" class=\"dataframe\">\n",
       "  <thead>\n",
       "    <tr style=\"text-align: right;\">\n",
       "      <th></th>\n",
       "      <th>target</th>\n",
       "      <th>ids</th>\n",
       "      <th>date</th>\n",
       "      <th>flag</th>\n",
       "      <th>user</th>\n",
       "      <th>text</th>\n",
       "      <th>date_utc</th>\n",
       "      <th>month</th>\n",
       "      <th>sentiment</th>\n",
       "      <th>sentiment_label</th>\n",
       "      <th>cleaned_text</th>\n",
       "    </tr>\n",
       "  </thead>\n",
       "  <tbody>\n",
       "    <tr>\n",
       "      <th>0</th>\n",
       "      <td>0</td>\n",
       "      <td>1467810369</td>\n",
       "      <td>2009-04-06 15:19:45-07:00</td>\n",
       "      <td>NO_QUERY</td>\n",
       "      <td>_TheSpecialOne_</td>\n",
       "      <td>@switchfoot http://twitpic.com/2y1zl - Awww, t...</td>\n",
       "      <td>2009-04-06 22:19:45+00:00</td>\n",
       "      <td>April</td>\n",
       "      <td>-0.0173</td>\n",
       "      <td>negative</td>\n",
       "      <td>- A that's a bummer.  You shoulda got David Ca...</td>\n",
       "    </tr>\n",
       "    <tr>\n",
       "      <th>1</th>\n",
       "      <td>0</td>\n",
       "      <td>1467810672</td>\n",
       "      <td>2009-04-06 15:19:49-07:00</td>\n",
       "      <td>NO_QUERY</td>\n",
       "      <td>scotthamilton</td>\n",
       "      <td>is upset that he can't update his Facebook by ...</td>\n",
       "      <td>2009-04-06 22:19:49+00:00</td>\n",
       "      <td>April</td>\n",
       "      <td>-0.7500</td>\n",
       "      <td>negative</td>\n",
       "      <td>is upset that he can't update his Facebook by ...</td>\n",
       "    </tr>\n",
       "    <tr>\n",
       "      <th>2</th>\n",
       "      <td>0</td>\n",
       "      <td>1467810917</td>\n",
       "      <td>2009-04-06 15:19:53-07:00</td>\n",
       "      <td>NO_QUERY</td>\n",
       "      <td>mattycus</td>\n",
       "      <td>@Kenichan I dived many times for the ball. Man...</td>\n",
       "      <td>2009-04-06 22:19:53+00:00</td>\n",
       "      <td>April</td>\n",
       "      <td>0.4939</td>\n",
       "      <td>positive</td>\n",
       "      <td>I dived many times for the ball. Managed to sa...</td>\n",
       "    </tr>\n",
       "    <tr>\n",
       "      <th>3</th>\n",
       "      <td>0</td>\n",
       "      <td>1467811184</td>\n",
       "      <td>2009-04-06 15:19:57-07:00</td>\n",
       "      <td>NO_QUERY</td>\n",
       "      <td>ElleCTF</td>\n",
       "      <td>my whole body feels itchy and like its on fire</td>\n",
       "      <td>2009-04-06 22:19:57+00:00</td>\n",
       "      <td>April</td>\n",
       "      <td>-0.2500</td>\n",
       "      <td>negative</td>\n",
       "      <td>my whole body feels itchy and like its on fire</td>\n",
       "    </tr>\n",
       "    <tr>\n",
       "      <th>4</th>\n",
       "      <td>0</td>\n",
       "      <td>1467811193</td>\n",
       "      <td>2009-04-06 15:19:57-07:00</td>\n",
       "      <td>NO_QUERY</td>\n",
       "      <td>Karoli</td>\n",
       "      <td>@nationwideclass no, it's not behaving at all....</td>\n",
       "      <td>2009-04-06 22:19:57+00:00</td>\n",
       "      <td>April</td>\n",
       "      <td>-0.6597</td>\n",
       "      <td>negative</td>\n",
       "      <td>no, it's not behaving at all. i'm mad. why am ...</td>\n",
       "    </tr>\n",
       "    <tr>\n",
       "      <th>5</th>\n",
       "      <td>0</td>\n",
       "      <td>1467811372</td>\n",
       "      <td>2009-04-06 15:20:00-07:00</td>\n",
       "      <td>NO_QUERY</td>\n",
       "      <td>joy_wolf</td>\n",
       "      <td>@Kwesidei not the whole crew</td>\n",
       "      <td>2009-04-06 22:20:00+00:00</td>\n",
       "      <td>April</td>\n",
       "      <td>0.0000</td>\n",
       "      <td>neutral</td>\n",
       "      <td>not the whole crew</td>\n",
       "    </tr>\n",
       "    <tr>\n",
       "      <th>6</th>\n",
       "      <td>0</td>\n",
       "      <td>1467811592</td>\n",
       "      <td>2009-04-06 15:20:03-07:00</td>\n",
       "      <td>NO_QUERY</td>\n",
       "      <td>mybirch</td>\n",
       "      <td>Need a hug</td>\n",
       "      <td>2009-04-06 22:20:03+00:00</td>\n",
       "      <td>April</td>\n",
       "      <td>0.4767</td>\n",
       "      <td>positive</td>\n",
       "      <td>Need a hug</td>\n",
       "    </tr>\n",
       "    <tr>\n",
       "      <th>7</th>\n",
       "      <td>0</td>\n",
       "      <td>1467811594</td>\n",
       "      <td>2009-04-06 15:20:03-07:00</td>\n",
       "      <td>NO_QUERY</td>\n",
       "      <td>coZZ</td>\n",
       "      <td>@LOLTrish hey  long time no see! Yes.. Rains a...</td>\n",
       "      <td>2009-04-06 22:20:03+00:00</td>\n",
       "      <td>April</td>\n",
       "      <td>0.7450</td>\n",
       "      <td>positive</td>\n",
       "      <td>hey  long time no see! Yes.. Rains a bit ,only...</td>\n",
       "    </tr>\n",
       "    <tr>\n",
       "      <th>8</th>\n",
       "      <td>0</td>\n",
       "      <td>1467811795</td>\n",
       "      <td>2009-04-06 15:20:05-07:00</td>\n",
       "      <td>NO_QUERY</td>\n",
       "      <td>2Hood4Hollywood</td>\n",
       "      <td>@Tatiana_K nope they didn't have it</td>\n",
       "      <td>2009-04-06 22:20:05+00:00</td>\n",
       "      <td>April</td>\n",
       "      <td>0.0000</td>\n",
       "      <td>neutral</td>\n",
       "      <td>nope they didn't have it</td>\n",
       "    </tr>\n",
       "    <tr>\n",
       "      <th>9</th>\n",
       "      <td>0</td>\n",
       "      <td>1467812025</td>\n",
       "      <td>2009-04-06 15:20:09-07:00</td>\n",
       "      <td>NO_QUERY</td>\n",
       "      <td>mimismo</td>\n",
       "      <td>@twittera que me muera ?</td>\n",
       "      <td>2009-04-06 22:20:09+00:00</td>\n",
       "      <td>April</td>\n",
       "      <td>0.0000</td>\n",
       "      <td>neutral</td>\n",
       "      <td>que me muera ?</td>\n",
       "    </tr>\n",
       "  </tbody>\n",
       "</table>\n",
       "</div>"
      ],
      "text/plain": [
       "   target         ids                      date      flag             user  \\\n",
       "0       0  1467810369 2009-04-06 15:19:45-07:00  NO_QUERY  _TheSpecialOne_   \n",
       "1       0  1467810672 2009-04-06 15:19:49-07:00  NO_QUERY    scotthamilton   \n",
       "2       0  1467810917 2009-04-06 15:19:53-07:00  NO_QUERY         mattycus   \n",
       "3       0  1467811184 2009-04-06 15:19:57-07:00  NO_QUERY          ElleCTF   \n",
       "4       0  1467811193 2009-04-06 15:19:57-07:00  NO_QUERY           Karoli   \n",
       "5       0  1467811372 2009-04-06 15:20:00-07:00  NO_QUERY         joy_wolf   \n",
       "6       0  1467811592 2009-04-06 15:20:03-07:00  NO_QUERY          mybirch   \n",
       "7       0  1467811594 2009-04-06 15:20:03-07:00  NO_QUERY             coZZ   \n",
       "8       0  1467811795 2009-04-06 15:20:05-07:00  NO_QUERY  2Hood4Hollywood   \n",
       "9       0  1467812025 2009-04-06 15:20:09-07:00  NO_QUERY          mimismo   \n",
       "\n",
       "                                                text  \\\n",
       "0  @switchfoot http://twitpic.com/2y1zl - Awww, t...   \n",
       "1  is upset that he can't update his Facebook by ...   \n",
       "2  @Kenichan I dived many times for the ball. Man...   \n",
       "3    my whole body feels itchy and like its on fire    \n",
       "4  @nationwideclass no, it's not behaving at all....   \n",
       "5                      @Kwesidei not the whole crew    \n",
       "6                                        Need a hug    \n",
       "7  @LOLTrish hey  long time no see! Yes.. Rains a...   \n",
       "8               @Tatiana_K nope they didn't have it    \n",
       "9                          @twittera que me muera ?    \n",
       "\n",
       "                   date_utc  month  sentiment sentiment_label  \\\n",
       "0 2009-04-06 22:19:45+00:00  April    -0.0173        negative   \n",
       "1 2009-04-06 22:19:49+00:00  April    -0.7500        negative   \n",
       "2 2009-04-06 22:19:53+00:00  April     0.4939        positive   \n",
       "3 2009-04-06 22:19:57+00:00  April    -0.2500        negative   \n",
       "4 2009-04-06 22:19:57+00:00  April    -0.6597        negative   \n",
       "5 2009-04-06 22:20:00+00:00  April     0.0000         neutral   \n",
       "6 2009-04-06 22:20:03+00:00  April     0.4767        positive   \n",
       "7 2009-04-06 22:20:03+00:00  April     0.7450        positive   \n",
       "8 2009-04-06 22:20:05+00:00  April     0.0000         neutral   \n",
       "9 2009-04-06 22:20:09+00:00  April     0.0000         neutral   \n",
       "\n",
       "                                        cleaned_text  \n",
       "0  - A that's a bummer.  You shoulda got David Ca...  \n",
       "1  is upset that he can't update his Facebook by ...  \n",
       "2  I dived many times for the ball. Managed to sa...  \n",
       "3     my whole body feels itchy and like its on fire  \n",
       "4  no, it's not behaving at all. i'm mad. why am ...  \n",
       "5                                 not the whole crew  \n",
       "6                                         Need a hug  \n",
       "7  hey  long time no see! Yes.. Rains a bit ,only...  \n",
       "8                           nope they didn't have it  \n",
       "9                                     que me muera ?  "
      ]
     },
     "execution_count": 64,
     "metadata": {},
     "output_type": "execute_result"
    }
   ],
   "source": [
    "data.head(10)"
   ]
  },
  {
   "cell_type": "code",
   "execution_count": 65,
   "id": "5c52c6f4",
   "metadata": {},
   "outputs": [
    {
     "data": {
      "text/plain": [
       "positive    748719\n",
       "neutral     429929\n",
       "negative    421352\n",
       "Name: sentiment_label, dtype: int64"
      ]
     },
     "execution_count": 65,
     "metadata": {},
     "output_type": "execute_result"
    }
   ],
   "source": [
    "# Calculate the counts of each sentiment label\n",
    "\n",
    "data['sentiment_label'].value_counts()"
   ]
  },
  {
   "cell_type": "markdown",
   "id": "adeafb6a",
   "metadata": {},
   "source": [
    "#### Pivot table for months and count of sentiments"
   ]
  },
  {
   "cell_type": "code",
   "execution_count": 84,
   "id": "a13fdcf9",
   "metadata": {},
   "outputs": [],
   "source": [
    "# Create a DataFrame with month and sentiment_label columns\n",
    "\n",
    "month_sentiment_counts = data.groupby(['month', 'sentiment_label'])['sentiment_label'].count().reset_index(name='count')\n"
   ]
  },
  {
   "cell_type": "code",
   "execution_count": 85,
   "id": "d21d8e40",
   "metadata": {},
   "outputs": [],
   "source": [
    "# Pivot the table to create separate columns for positive and negative counts\n",
    "\n",
    "pivot_table = month_sentiment_counts.pivot(index='month', columns='sentiment_label', values='count')\n"
   ]
  },
  {
   "cell_type": "code",
   "execution_count": 86,
   "id": "a6e4824a",
   "metadata": {},
   "outputs": [],
   "source": [
    "# Fill NaN values with 0 (in case a category has only one sentiment label)\n",
    "\n",
    "pivot_table.fillna(0, inplace=True)\n"
   ]
  },
  {
   "cell_type": "code",
   "execution_count": 87,
   "id": "f68568fe",
   "metadata": {},
   "outputs": [],
   "source": [
    "# Calculate the total reviews for each month\n",
    "\n",
    "pivot_table['total_reviews'] = pivot_table['negative'] + pivot_table['positive'] + pivot_table['neutral']\n"
   ]
  },
  {
   "cell_type": "code",
   "execution_count": 88,
   "id": "4ae47bd0",
   "metadata": {},
   "outputs": [],
   "source": [
    "# Reset the index to have 'category' as a regular column\n",
    "\n",
    "pivot_table.reset_index(inplace=True)\n"
   ]
  },
  {
   "cell_type": "code",
   "execution_count": 89,
   "id": "1689a154",
   "metadata": {},
   "outputs": [
    {
     "name": "stdout",
     "output_type": "stream",
     "text": [
      "sentiment_label  month  negative  neutral  positive  total_reviews\n",
      "0                April     23225    27287     49513         100025\n",
      "1                 June    261556   238843    391960         892359\n",
      "2                  May    136571   163799    307246         607616\n"
     ]
    }
   ],
   "source": [
    "# If a category has no negative or positive reviews, replace NaN with 0\n",
    "\n",
    "pivot_table['negative'].fillna(0, inplace=True)\n",
    "pivot_table['positive'].fillna(0, inplace=True)\n",
    "\n",
    "print(pivot_table)\n"
   ]
  },
  {
   "cell_type": "code",
   "execution_count": 126,
   "id": "fd5b1ecb",
   "metadata": {},
   "outputs": [
    {
     "data": {
      "text/html": [
       "<div>\n",
       "<style scoped>\n",
       "    .dataframe tbody tr th:only-of-type {\n",
       "        vertical-align: middle;\n",
       "    }\n",
       "\n",
       "    .dataframe tbody tr th {\n",
       "        vertical-align: top;\n",
       "    }\n",
       "\n",
       "    .dataframe thead th {\n",
       "        text-align: right;\n",
       "    }\n",
       "</style>\n",
       "<table border=\"1\" class=\"dataframe\">\n",
       "  <thead>\n",
       "    <tr style=\"text-align: right;\">\n",
       "      <th>sentiment_label</th>\n",
       "      <th>negative</th>\n",
       "      <th>neutral</th>\n",
       "      <th>positive</th>\n",
       "      <th>total_reviews</th>\n",
       "    </tr>\n",
       "    <tr>\n",
       "      <th>month</th>\n",
       "      <th></th>\n",
       "      <th></th>\n",
       "      <th></th>\n",
       "      <th></th>\n",
       "    </tr>\n",
       "  </thead>\n",
       "  <tbody>\n",
       "    <tr>\n",
       "      <th>April</th>\n",
       "      <td>23225</td>\n",
       "      <td>27287</td>\n",
       "      <td>49513</td>\n",
       "      <td>100025</td>\n",
       "    </tr>\n",
       "    <tr>\n",
       "      <th>June</th>\n",
       "      <td>261556</td>\n",
       "      <td>238843</td>\n",
       "      <td>391960</td>\n",
       "      <td>892359</td>\n",
       "    </tr>\n",
       "    <tr>\n",
       "      <th>May</th>\n",
       "      <td>136571</td>\n",
       "      <td>163799</td>\n",
       "      <td>307246</td>\n",
       "      <td>607616</td>\n",
       "    </tr>\n",
       "  </tbody>\n",
       "</table>\n",
       "</div>"
      ],
      "text/plain": [
       "sentiment_label  negative  neutral  positive  total_reviews\n",
       "month                                                      \n",
       "April               23225    27287     49513         100025\n",
       "June               261556   238843    391960         892359\n",
       "May                136571   163799    307246         607616"
      ]
     },
     "execution_count": 126,
     "metadata": {},
     "output_type": "execute_result"
    }
   ],
   "source": [
    "#convert the time table into dataframe\n",
    "\n",
    "pd.DataFrame(pivot_table)"
   ]
  },
  {
   "cell_type": "code",
   "execution_count": 124,
   "id": "4d730fbc",
   "metadata": {},
   "outputs": [
    {
     "data": {
      "image/png": "[encoded data removed]",
      "text/plain": [
       "<Figure size 1000x600 with 1 Axes>"
      ]
     },
     "metadata": {},
     "output_type": "display_data"
    },
    {
     "name": "stdout",
     "output_type": "stream",
     "text": [
      "sentiment_label   negative    neutral   positive\n",
      "month                                           \n",
      "April            23.219195  27.280180  49.500625\n",
      "June             29.310625  26.765349  43.924026\n",
      "May              22.476531  26.957651  50.565818\n"
     ]
    }
   ],
   "source": [
    "# Calculate percentages\n",
    "\n",
    "pivot_table_percentages = pivot_table[['negative','neutral','positive']].div(pivot_table[['negative','neutral','positive']].sum(axis=1), axis=0) * 100\n",
    "\n",
    "\n",
    "# plot the stacked bar graph over months\n",
    "\n",
    "sns.set_palette('pastel')\n",
    "\n",
    "ax = pivot_table[['negative','positive','neutral']].plot(kind='bar', stacked=True, figsize=(10, 6))\n",
    "\n",
    "plt.title('Sentiment Analysis by Month')\n",
    "\n",
    "plt.xlabel('Month')\n",
    "\n",
    "plt.ylabel('Count')\n",
    "\n",
    "plt.xticks(rotation=45)\n",
    "\n",
    "plt.legend(title='Sentiment', bbox_to_anchor=(1.05, 1), loc='upper left')\n",
    "\n",
    "\n",
    "plt.tight_layout()\n",
    "plt.show()\n",
    "\n",
    "print(pivot_table_percentages)"
   ]
  },
  {
   "cell_type": "markdown",
   "id": "15d460b6",
   "metadata": {},
   "source": [
    "# INSIGHTS\n",
    "\n",
    "1. **April**: \n",
    "   - **Negative**: 23.22%\n",
    "   - **Neutral**: 27.28%\n",
    "   - **Positive**: 49.50%\n",
    "   \n",
    "   April shows a fairly balanced sentiment distribution, with almost half of the reviews expressing positivity, while negative and neutral sentiments are relatively lower but still significant.\n",
    "\n",
    "2. **May**: \n",
    "   - **Negative**: 22.48%\n",
    "   - **Neutral**: 26.96%\n",
    "   - **Positive**: 50.57%\n",
    "   \n",
    "   May exhibits a similar pattern to April, with slightly lower negative sentiment and slightly higher positive sentiment. Again, positivity dominates, indicating a generally favorable sentiment among Twitter users.\n",
    "\n",
    "3. **June**: \n",
    "   - **Negative**: 29.31%\n",
    "   - **Neutral**: 26.77%\n",
    "   - **Positive**: 43.92%\n",
    "   \n",
    "   June stands out with a higher proportion of negative sentiment compared to the other two months. Positive sentiment also decreases noticeably, while neutral sentiment remains relatively stable. This could suggest a shift in sentiment or perhaps specific events or topics dominating Twitter discussions that month.\n",
    "\n",
    "Overall, while there are fluctuations in sentiment percentages between the months, positivity consistently outweighs negativity across all three months."
   ]
  },
  {
   "cell_type": "markdown",
   "id": "eff870c5",
   "metadata": {},
   "source": [
    "# INSIGHTS\n",
    "\n",
    "The top 5 most frequent words:\n",
    "\n",
    "1. **\"day\"**: With its high frequency, \"day\" likely appears in various contexts, from positive to neutral to negative. It's a common word used to describe experiences, events, or simply the passing of time. Sentiments associated with \"day\" could range from positive (e.g., \"great day\", \"beautiful day\") to neutral (e.g., \"ordinary day\") to negative (e.g., \"bad day\", \"rough day\").\n",
    "\n",
    "2. **\"good\"**: The frequency of \"good\" suggests its prevalent usage in expressing positivity. It's often associated with favorable experiences, feelings, or qualities. Sentiments related to \"good\" are predominantly positive, reflecting satisfaction, approval, or enjoyment.\n",
    "\n",
    "3. **\"get\"**: \"Get\" is a versatile word that appears in various contexts, such as obtaining something, receiving an action, or achieving a goal. Sentiments tied to \"get\" may vary depending on the context. It could convey positivity when indicating attainment or accomplishment (\"get a promotion\"), or it might imply frustration or challenge when expressing difficulty (\"can't get it right\").\n",
    "\n",
    "4. **\"like\"**: \"Like\" is another versatile word that can convey different sentiments based on its usage. It often signifies affinity, preference, similarity, or comparison. Sentiments associated with \"like\" can range from positive (e.g., \"I like it\", \"feels like home\") to neutral (e.g., \"looks like\", \"sounds like\") to potentially negative in certain contexts (e.g., \"I don't like it\", \"feels like a chore\").\n",
    "\n",
    "5. **\"go\"**: The word \"go\" is commonly associated with movement, action, or progression. Its frequent appearance suggests usage in various contexts, from describing physical motion to indicating plans or outcomes. Sentiments related to \"go\" can vary widely depending on context, from positive (e.g., \"let's go\", \"going well\") to neutral (e.g., \"time to go\", \"where did it go?\") to negative (e.g., \"things are going downhill\", \"letting it go\")."
   ]
  },
  {
   "cell_type": "code",
   "execution_count": null,
   "id": "a0d5421c",
   "metadata": {},
   "outputs": [],
   "source": []
  }
 ],
 "metadata": {
  "kernelspec": {
   "display_name": "Python 3 (ipykernel)",
   "language": "python",
   "name": "python3"
  },
  "language_info": {
   "codemirror_mode": {
    "name": "ipython",
    "version": 3
   },
   "file_extension": ".py",
   "mimetype": "text/x-python",
   "name": "python",
   "nbconvert_exporter": "python",
   "pygments_lexer": "ipython3",
   "version": "3.11.4"
  }
 },
 "nbformat": 4,
 "nbformat_minor": 5
}
